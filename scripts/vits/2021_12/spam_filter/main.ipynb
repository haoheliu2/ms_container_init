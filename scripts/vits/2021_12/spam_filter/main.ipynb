{
 "cells": [
  {
   "cell_type": "code",
   "execution_count": 110,
   "metadata": {},
   "outputs": [
    {
     "name": "stdout",
     "output_type": "stream",
     "text": [
      "Process /Users/liuhaohe/Downloads/test/20-2021-12-03-vits-a_2021_12_10_14_20_33_038 (1).xlsx\n",
      "Mean CMOS score without filter is -0.009615. Calculated with spam: \n",
      "Mean CMOS score without filter is -0.047500. Calculated without spam: \n"
     ]
    }
   ],
   "source": [
    "import pandas as pd\n",
    "fpath = \"/Users/liuhaohe/Downloads/test/20-2021-12-01-gt-and_2021_12_04_14_41_27_301 (1).xlsx\"\n",
    "sh_name = pd.read_excel(fpath, sheet_name = \"Analysis Summary-GeneralSe\")\n",
    "names = [name.strip() for name in sh_name.at[4, \"Unnamed: 3\"].split(\"vs.\")]\n",
    "baseline_name = names[0]\n",
    "another_name = names[1]\n",
    "FILTER_OUT_SPAM_3 = True\n",
    "FILTER_OUT_SPAM_2_THREE_TIMES = True\n",
    "FILTER_ZERO_RATIO_THRESHOLD=0.01\n",
    "print(\"Process\", fpath)\n",
    "sh_spam = pd.read_excel(fpath, sheet_name = \"SpamCases\")\n",
    "sh_details = pd.read_excel(fpath, sheet_name = \"Details\")\n",
    "score_no_filter_no_spam = sh_details.groupby(\"Domain\").get_group(\"GeneralSentence\").groupby(\"Voice name\").get_group(another_name)[\"Score\"].mean()\n",
    "score_no_filter_with_spam = sh_details.groupby(\"Voice name\").get_group(another_name)[\"Score\"].mean()\n",
    "print(\"Mean CMOS score without filter is %f. Calculated with spam: \" % score_no_filter_with_spam)\n",
    "print(\"Mean CMOS score without filter is %f. Calculated without spam: \" % score_no_filter_no_spam)"
   ]
  },
  {
   "cell_type": "code",
   "execution_count": 114,
   "metadata": {},
   "outputs": [
    {
     "data": {
      "text/plain": [
       "1040"
      ]
     },
     "execution_count": 114,
     "metadata": {},
     "output_type": "execute_result"
    }
   ],
   "source": [
    "len(sh_details)"
   ]
  },
  {
   "cell_type": "code",
   "execution_count": 107,
   "metadata": {},
   "outputs": [
    {
     "name": "stdout",
     "output_type": "stream",
     "text": [
      "Judgers:  [976829]  scoring on spam case is +/-3\n",
      "Judgers:  [974537, 976871, 976909, 1001898, 1005222, 1092762]  scoring on spam case is +/-2 for 3 times or more\n",
      "Judgers:  [191674, 794641, 918740, 922674, 928708, 930711, 936107, 944105, 950743, 951935, 962761, 974355, 974371, 974477, 974537, 975138, 975183, 975701, 975723, 976195, 976663, 976693, 976829, 976871, 976909, 990528, 995540, 1001898, 1003559, 1005222, 1035315, 1062749, 1082866, 1082886, 1092727, 1092762, 1092780, 1092820, 1092834, 1092865, 1093255, 1093276, 1100227] zero score ratio on spam case is < 1.0 percent\n",
      "--> Finally we only consider these judgers: [478458, 717963, 933180, 1092711, 1092779]\n"
     ]
    }
   ],
   "source": [
    "all_judgers = sh_spam[\"JudgeId\"].tolist()\n",
    "filted_type_1 = sh_spam[sh_spam[\"Score(+-3)\"]>0][\"JudgeId\"].tolist()\n",
    "print(\"Judgers: \",filted_type_1,\" scoring on spam case is +/-3\")\n",
    "filted_type_2 = sh_spam[sh_spam[\"Score(+-2)\"]>=3][\"JudgeId\"].tolist()\n",
    "print(\"Judgers: \",filted_type_2,\" scoring on spam case is +/-2 for 3 times or more\")\n",
    "filted_type_3 = sh_spam[sh_spam[\"Percent(Score:0)\"].str.strip(\"%\").astype(float)/100 < FILTER_ZERO_RATIO_THRESHOLD][\"JudgeId\"].tolist()\n",
    "print(\"Judgers: \", filted_type_3, \"zero score ratio on spam case is < %.1f percent\" % (FILTER_ZERO_RATIO_THRESHOLD * 100))\n",
    "excluded_judger = []\n",
    "excluded_judger.extend(filted_type_1+filted_type_2+filted_type_3)\n",
    "excluded_judger = list(set(excluded_judger))\n",
    "remain_judgers = [x for x in all_judgers if x not in excluded_judger]\n",
    "print(\"--> Finally we only consider these judgers:\", remain_judgers)"
   ]
  },
  {
   "cell_type": "code",
   "execution_count": 108,
   "metadata": {},
   "outputs": [
    {
     "name": "stdout",
     "output_type": "stream",
     "text": [
      "Mean CMOS score with filter is -0.119048. Calculated with spam.\n",
      "Mean CMOS score with filter is -0.185185. Calculated without spam.\n"
     ]
    }
   ],
   "source": [
    "sh_filtered_details = sh_details[sh_details[\"LE name\"].isin(remain_judgers)]\n",
    "score_filtered_no_spam = sh_filtered_details.groupby(\"Domain\").get_group(\"GeneralSentence\").groupby(\"Voice name\").get_group(another_name)[\"Score\"].mean()\n",
    "score_filtered_with_spam = sh_filtered_details.groupby(\"Voice name\").get_group(another_name)[\"Score\"].mean()\n",
    "print(\"Mean CMOS score with filter is %f. Calculated with spam.\" % score_filtered_with_spam)\n",
    "print(\"Mean CMOS score with filter is %f. Calculated without spam.\" % score_filtered_no_spam)"
   ]
  },
  {
   "cell_type": "code",
   "execution_count": 109,
   "metadata": {},
   "outputs": [],
   "source": [
    "data = pd.DataFrame(\n",
    "       {\"Mean CMOS with spam no filter\":[score_no_filter_with_spam], \n",
    "        \"Mean CMOS with spam with filter\":[score_filtered_with_spam], \n",
    "        \"Mean CMOS no spam no filter\":[score_no_filter_no_spam], \n",
    "        \"Mean CMOS no spam with filter\":[score_filtered_no_spam], \n",
    "       }\n",
    "       )\n",
    "with pd.ExcelWriter(fpath, mode='a', engine='openpyxl', if_sheet_exists=\"replace\") as writer:\n",
    "       data.to_excel(writer, sheet_name=\"filted_result\")"
   ]
  },
  {
   "cell_type": "code",
   "execution_count": null,
   "metadata": {},
   "outputs": [],
   "source": []
  },
  {
   "cell_type": "code",
   "execution_count": null,
   "metadata": {},
   "outputs": [],
   "source": []
  },
  {
   "cell_type": "code",
   "execution_count": null,
   "metadata": {},
   "outputs": [],
   "source": []
  },
  {
   "cell_type": "code",
   "execution_count": null,
   "metadata": {},
   "outputs": [],
   "source": []
  }
 ],
 "metadata": {
  "interpreter": {
   "hash": "229440e0d27925e794ccd81e6d7d691b974d25db20496b46cf1fb351914afc58"
  },
  "kernelspec": {
   "display_name": "Python 3.7.10 64-bit ('pytorch': conda)",
   "language": "python",
   "name": "python3"
  },
  "language_info": {
   "codemirror_mode": {
    "name": "ipython",
    "version": 3
   },
   "file_extension": ".py",
   "mimetype": "text/x-python",
   "name": "python",
   "nbconvert_exporter": "python",
   "pygments_lexer": "ipython3",
   "version": "3.7.10"
  },
  "orig_nbformat": 4
 },
 "nbformat": 4,
 "nbformat_minor": 2
}
